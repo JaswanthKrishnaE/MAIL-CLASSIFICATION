{
 "cells": [
  {
   "cell_type": "code",
   "execution_count": 1,
   "id": "d4aa14bf",
   "metadata": {
    "_cell_guid": "b1076dfc-b9ad-4769-8c92-a6c4dae69d19",
    "_uuid": "8f2839f25d086af736a60e9eeb907d3b93b6e0e5",
    "execution": {
     "iopub.execute_input": "2023-10-12T08:05:08.769184Z",
     "iopub.status.busy": "2023-10-12T08:05:08.768887Z",
     "iopub.status.idle": "2023-10-12T08:05:08.784292Z",
     "shell.execute_reply": "2023-10-12T08:05:08.783417Z"
    },
    "papermill": {
     "duration": 0.020593,
     "end_time": "2023-10-12T08:05:08.785980",
     "exception": false,
     "start_time": "2023-10-12T08:05:08.765387",
     "status": "completed"
    },
    "tags": []
   },
   "outputs": [
    {
     "name": "stdout",
     "output_type": "stream",
     "text": [
      "/kaggle/input/spam-mails-dataset/spam_ham_dataset.csv\n"
     ]
    }
   ],
   "source": [
    "# This Python 3 environment comes with many helpful analytics libraries installed\n",
    "# It is defined by the kaggle/python Docker image: https://github.com/kaggle/docker-python\n",
    "# For example, here's several helpful packages to load\n",
    "\n",
    "import numpy as np # linear algebra\n",
    "import pandas as pd # data processing, CSV file I/O (e.g. pd.read_csv)\n",
    "\n",
    "# Input data files are available in the read-only \"../input/\" directory\n",
    "# For example, running this (by clicking run or pressing Shift+Enter) will list all files under the input directory\n",
    "\n",
    "import os\n",
    "for dirname, _, filenames in os.walk('/kaggle/input'):\n",
    "    for filename in filenames:\n",
    "        print(os.path.join(dirname, filename))\n",
    "\n",
    "# You can write up to 20GB to the current directory (/kaggle/working/) that gets preserved as output when you create a version using \"Save & Run All\" \n",
    "# You can also write temporary files to /kaggle/temp/, but they won't be saved outside of the current session"
   ]
  },
  {
   "cell_type": "code",
   "execution_count": 2,
   "id": "af1b1278",
   "metadata": {
    "execution": {
     "iopub.execute_input": "2023-10-12T08:05:08.791610Z",
     "iopub.status.busy": "2023-10-12T08:05:08.790888Z",
     "iopub.status.idle": "2023-10-12T08:05:10.027454Z",
     "shell.execute_reply": "2023-10-12T08:05:10.026551Z"
    },
    "papermill": {
     "duration": 1.241351,
     "end_time": "2023-10-12T08:05:10.029492",
     "exception": false,
     "start_time": "2023-10-12T08:05:08.788141",
     "status": "completed"
    },
    "tags": []
   },
   "outputs": [
    {
     "name": "stderr",
     "output_type": "stream",
     "text": [
      "/opt/conda/lib/python3.10/site-packages/scipy/__init__.py:146: UserWarning: A NumPy version >=1.16.5 and <1.23.0 is required for this version of SciPy (detected version 1.23.5\n",
      "  warnings.warn(f\"A NumPy version >={np_minversion} and <{np_maxversion}\"\n"
     ]
    }
   ],
   "source": [
    "import pandas as pd\n",
    "import nltk\n",
    "from nltk.corpus import stopwords\n",
    "from nltk.stem import PorterStemmer\n",
    "from sklearn.model_selection import train_test_split\n",
    "from sklearn.feature_extraction.text import TfidfVectorizer\n",
    "from sklearn.svm import SVC\n",
    "from sklearn.pipeline import Pipeline\n",
    "from sklearn.metrics import accuracy_score\n",
    "from sklearn.preprocessing import FunctionTransformer,LabelEncoder\n"
   ]
  },
  {
   "cell_type": "code",
   "execution_count": 3,
   "id": "a45dd819",
   "metadata": {
    "execution": {
     "iopub.execute_input": "2023-10-12T08:05:10.035643Z",
     "iopub.status.busy": "2023-10-12T08:05:10.034845Z",
     "iopub.status.idle": "2023-10-12T08:05:10.167776Z",
     "shell.execute_reply": "2023-10-12T08:05:10.166922Z"
    },
    "papermill": {
     "duration": 0.137638,
     "end_time": "2023-10-12T08:05:10.169526",
     "exception": false,
     "start_time": "2023-10-12T08:05:10.031888",
     "status": "completed"
    },
    "tags": []
   },
   "outputs": [
    {
     "data": {
      "text/html": [
       "<div>\n",
       "<style scoped>\n",
       "    .dataframe tbody tr th:only-of-type {\n",
       "        vertical-align: middle;\n",
       "    }\n",
       "\n",
       "    .dataframe tbody tr th {\n",
       "        vertical-align: top;\n",
       "    }\n",
       "\n",
       "    .dataframe thead th {\n",
       "        text-align: right;\n",
       "    }\n",
       "</style>\n",
       "<table border=\"1\" class=\"dataframe\">\n",
       "  <thead>\n",
       "    <tr style=\"text-align: right;\">\n",
       "      <th></th>\n",
       "      <th>label</th>\n",
       "      <th>text</th>\n",
       "      <th>target</th>\n",
       "    </tr>\n",
       "  </thead>\n",
       "  <tbody>\n",
       "    <tr>\n",
       "      <th>733</th>\n",
       "      <td>ham</td>\n",
       "      <td>Subject: ( no subject )\\r\\nhey daren its me .\\...</td>\n",
       "      <td>0</td>\n",
       "    </tr>\n",
       "    <tr>\n",
       "      <th>1560</th>\n",
       "      <td>ham</td>\n",
       "      <td>Subject: enron / hpl actuals for sept . 5 , 20...</td>\n",
       "      <td>0</td>\n",
       "    </tr>\n",
       "    <tr>\n",
       "      <th>2140</th>\n",
       "      <td>ham</td>\n",
       "      <td>Subject: tri - c / cokinos gov bill daniels de...</td>\n",
       "      <td>0</td>\n",
       "    </tr>\n",
       "    <tr>\n",
       "      <th>1877</th>\n",
       "      <td>ham</td>\n",
       "      <td>Subject: cornhusker - cleburne plant outage\\r\\...</td>\n",
       "      <td>0</td>\n",
       "    </tr>\n",
       "    <tr>\n",
       "      <th>3710</th>\n",
       "      <td>spam</td>\n",
       "      <td>Subject: antigen downstairs dance\\r\\nstill no ...</td>\n",
       "      <td>1</td>\n",
       "    </tr>\n",
       "  </tbody>\n",
       "</table>\n",
       "</div>"
      ],
      "text/plain": [
       "     label                                               text  target\n",
       "733    ham  Subject: ( no subject )\\r\\nhey daren its me .\\...       0\n",
       "1560   ham  Subject: enron / hpl actuals for sept . 5 , 20...       0\n",
       "2140   ham  Subject: tri - c / cokinos gov bill daniels de...       0\n",
       "1877   ham  Subject: cornhusker - cleburne plant outage\\r\\...       0\n",
       "3710  spam  Subject: antigen downstairs dance\\r\\nstill no ...       1"
      ]
     },
     "execution_count": 3,
     "metadata": {},
     "output_type": "execute_result"
    }
   ],
   "source": [
    "df = pd.read_csv(\"/kaggle/input/spam-mails-dataset/spam_ham_dataset.csv\",index_col = 0)\n",
    "df.drop('label_num' , axis = 1 ,inplace = True)\n",
    "# df.columns = ['text' , 'target']\n",
    "label_encoder = LabelEncoder()\n",
    "df['target']= label_encoder.fit_transform(df['label'])\n",
    "df.sample(5)"
   ]
  },
  {
   "cell_type": "code",
   "execution_count": 4,
   "id": "6855a155",
   "metadata": {
    "execution": {
     "iopub.execute_input": "2023-10-12T08:05:10.175407Z",
     "iopub.status.busy": "2023-10-12T08:05:10.175159Z",
     "iopub.status.idle": "2023-10-12T08:05:10.181229Z",
     "shell.execute_reply": "2023-10-12T08:05:10.180310Z"
    },
    "papermill": {
     "duration": 0.010803,
     "end_time": "2023-10-12T08:05:10.182860",
     "exception": false,
     "start_time": "2023-10-12T08:05:10.172057",
     "status": "completed"
    },
    "tags": []
   },
   "outputs": [],
   "source": [
    "\n",
    "def text_transform(desc):\n",
    "    text = desc.lower()\n",
    "    text = nltk.word_tokenize(text)\n",
    "    words = [word for word in text if word.isalnum()]\n",
    "    words = [word for word in words if word not in stopwords.words('english')]\n",
    "\n",
    "    # Apply stemming using PorterStemmer\n",
    "    stemmer = PorterStemmer()\n",
    "    stemmed_words = [stemmer.stem(word) for word in words]\n",
    "\n",
    "    return \" \".join(stemmed_words)\n",
    "\n",
    "def data_preprocessing(df):\n",
    "    df[\"transformed_text\"] = df['text'].apply(text_transform)\n",
    "    return df[\"transformed_text\"]"
   ]
  },
  {
   "cell_type": "code",
   "execution_count": 5,
   "id": "4e68a676",
   "metadata": {
    "execution": {
     "iopub.execute_input": "2023-10-12T08:05:10.188519Z",
     "iopub.status.busy": "2023-10-12T08:05:10.188023Z",
     "iopub.status.idle": "2023-10-12T08:05:10.197639Z",
     "shell.execute_reply": "2023-10-12T08:05:10.196881Z"
    },
    "papermill": {
     "duration": 0.014121,
     "end_time": "2023-10-12T08:05:10.199212",
     "exception": false,
     "start_time": "2023-10-12T08:05:10.185091",
     "status": "completed"
    },
    "tags": []
   },
   "outputs": [],
   "source": [
    "X = df.drop(['target' , 'label'] ,axis = 1).copy()\n",
    "y = df['target'].values\n",
    "X_train,X_test,y_train,y_test = train_test_split(X,y,test_size=0.2,stratify=y,random_state=2)"
   ]
  },
  {
   "cell_type": "code",
   "execution_count": 6,
   "id": "b92ba9a7",
   "metadata": {
    "execution": {
     "iopub.execute_input": "2023-10-12T08:05:10.204830Z",
     "iopub.status.busy": "2023-10-12T08:05:10.204335Z",
     "iopub.status.idle": "2023-10-12T08:05:10.211742Z",
     "shell.execute_reply": "2023-10-12T08:05:10.210874Z"
    },
    "papermill": {
     "duration": 0.011967,
     "end_time": "2023-10-12T08:05:10.213389",
     "exception": false,
     "start_time": "2023-10-12T08:05:10.201422",
     "status": "completed"
    },
    "tags": []
   },
   "outputs": [
    {
     "data": {
      "text/html": [
       "<div>\n",
       "<style scoped>\n",
       "    .dataframe tbody tr th:only-of-type {\n",
       "        vertical-align: middle;\n",
       "    }\n",
       "\n",
       "    .dataframe tbody tr th {\n",
       "        vertical-align: top;\n",
       "    }\n",
       "\n",
       "    .dataframe thead th {\n",
       "        text-align: right;\n",
       "    }\n",
       "</style>\n",
       "<table border=\"1\" class=\"dataframe\">\n",
       "  <thead>\n",
       "    <tr style=\"text-align: right;\">\n",
       "      <th></th>\n",
       "      <th>text</th>\n",
       "    </tr>\n",
       "  </thead>\n",
       "  <tbody>\n",
       "    <tr>\n",
       "      <th>586</th>\n",
       "      <td>Subject: hpl liquids / exxon\\r\\ndeal numbers :...</td>\n",
       "    </tr>\n",
       "    <tr>\n",
       "      <th>5020</th>\n",
       "      <td>Subject: meet some lonely fun girls that want ...</td>\n",
       "    </tr>\n",
       "    <tr>\n",
       "      <th>3053</th>\n",
       "      <td>Subject: re : noms / actual flow for 4 / 11 / ...</td>\n",
       "    </tr>\n",
       "    <tr>\n",
       "      <th>3994</th>\n",
       "      <td>Subject: better s . e . x guar . antee . d\\r\\n...</td>\n",
       "    </tr>\n",
       "    <tr>\n",
       "      <th>3108</th>\n",
       "      <td>Subject: pleo 0004 2000\\r\\nmary ,\\r\\nas in my ...</td>\n",
       "    </tr>\n",
       "  </tbody>\n",
       "</table>\n",
       "</div>"
      ],
      "text/plain": [
       "                                                   text\n",
       "586   Subject: hpl liquids / exxon\\r\\ndeal numbers :...\n",
       "5020  Subject: meet some lonely fun girls that want ...\n",
       "3053  Subject: re : noms / actual flow for 4 / 11 / ...\n",
       "3994  Subject: better s . e . x guar . antee . d\\r\\n...\n",
       "3108  Subject: pleo 0004 2000\\r\\nmary ,\\r\\nas in my ..."
      ]
     },
     "execution_count": 6,
     "metadata": {},
     "output_type": "execute_result"
    }
   ],
   "source": [
    "X.sample(5)"
   ]
  },
  {
   "cell_type": "code",
   "execution_count": 7,
   "id": "b689d19a",
   "metadata": {
    "execution": {
     "iopub.execute_input": "2023-10-12T08:05:10.219380Z",
     "iopub.status.busy": "2023-10-12T08:05:10.218906Z",
     "iopub.status.idle": "2023-10-12T08:05:10.223682Z",
     "shell.execute_reply": "2023-10-12T08:05:10.222952Z"
    },
    "papermill": {
     "duration": 0.009449,
     "end_time": "2023-10-12T08:05:10.225295",
     "exception": false,
     "start_time": "2023-10-12T08:05:10.215846",
     "status": "completed"
    },
    "tags": []
   },
   "outputs": [],
   "source": [
    "# Create a pipeline\n",
    "pipeline = Pipeline([\n",
    "    ('data_preprocessing', FunctionTransformer(func=data_preprocessing, validate=False)),\n",
    "    ('vectorization', TfidfVectorizer(max_features=3000)),\n",
    "    ('SVC', SVC(kernel='sigmoid', gamma=1.0))\n",
    "])"
   ]
  },
  {
   "cell_type": "code",
   "execution_count": 8,
   "id": "f77b1f79",
   "metadata": {
    "execution": {
     "iopub.execute_input": "2023-10-12T08:05:10.231036Z",
     "iopub.status.busy": "2023-10-12T08:05:10.230809Z",
     "iopub.status.idle": "2023-10-12T08:06:48.685776Z",
     "shell.execute_reply": "2023-10-12T08:06:48.684673Z"
    },
    "papermill": {
     "duration": 98.462303,
     "end_time": "2023-10-12T08:06:48.690005",
     "exception": false,
     "start_time": "2023-10-12T08:05:10.227702",
     "status": "completed"
    },
    "tags": []
   },
   "outputs": [
    {
     "name": "stdout",
     "output_type": "stream",
     "text": [
      "Accuracy: 0.98\n"
     ]
    }
   ],
   "source": [
    "# Train the pipeline\n",
    "pipeline.fit(X_train, y_train)\n",
    "\n",
    "# Make predictions\n",
    "y_pred = pipeline.predict(X_test)\n",
    "\n",
    "# Calculate accuracy\n",
    "accuracy = accuracy_score(y_test, y_pred)\n",
    "print(f\"Accuracy: {accuracy:.2f}\")"
   ]
  },
  {
   "cell_type": "code",
   "execution_count": 9,
   "id": "d598b552",
   "metadata": {
    "execution": {
     "iopub.execute_input": "2023-10-12T08:06:48.696424Z",
     "iopub.status.busy": "2023-10-12T08:06:48.696175Z",
     "iopub.status.idle": "2023-10-12T08:06:48.714875Z",
     "shell.execute_reply": "2023-10-12T08:06:48.713931Z"
    },
    "papermill": {
     "duration": 0.023749,
     "end_time": "2023-10-12T08:06:48.716556",
     "exception": false,
     "start_time": "2023-10-12T08:06:48.692807",
     "status": "completed"
    },
    "tags": []
   },
   "outputs": [
    {
     "name": "stdout",
     "output_type": "stream",
     "text": [
      "Trained pipeline saved to 'trained_pipeline.pkl'\n"
     ]
    }
   ],
   "source": [
    "import pickle\n",
    "with open('trained_pipeline.pkl', 'wb') as file:\n",
    "    pickle.dump(pipeline, file)\n",
    "\n",
    "print(\"Trained pipeline saved to 'trained_pipeline.pkl'\")"
   ]
  },
  {
   "cell_type": "code",
   "execution_count": 10,
   "id": "00e391be",
   "metadata": {
    "execution": {
     "iopub.execute_input": "2023-10-12T08:06:48.723098Z",
     "iopub.status.busy": "2023-10-12T08:06:48.722534Z",
     "iopub.status.idle": "2023-10-12T08:06:48.730591Z",
     "shell.execute_reply": "2023-10-12T08:06:48.729664Z"
    },
    "papermill": {
     "duration": 0.013285,
     "end_time": "2023-10-12T08:06:48.732473",
     "exception": false,
     "start_time": "2023-10-12T08:06:48.719188",
     "status": "completed"
    },
    "tags": []
   },
   "outputs": [
    {
     "data": {
      "text/html": [
       "<div>\n",
       "<style scoped>\n",
       "    .dataframe tbody tr th:only-of-type {\n",
       "        vertical-align: middle;\n",
       "    }\n",
       "\n",
       "    .dataframe tbody tr th {\n",
       "        vertical-align: top;\n",
       "    }\n",
       "\n",
       "    .dataframe thead th {\n",
       "        text-align: right;\n",
       "    }\n",
       "</style>\n",
       "<table border=\"1\" class=\"dataframe\">\n",
       "  <thead>\n",
       "    <tr style=\"text-align: right;\">\n",
       "      <th></th>\n",
       "      <th>text</th>\n",
       "    </tr>\n",
       "  </thead>\n",
       "  <tbody>\n",
       "    <tr>\n",
       "      <th>0</th>\n",
       "      <td>Subject: enron actuals for july 14 thru 16 , 2...</td>\n",
       "    </tr>\n",
       "  </tbody>\n",
       "</table>\n",
       "</div>"
      ],
      "text/plain": [
       "                                                text\n",
       "0  Subject: enron actuals for july 14 thru 16 , 2..."
      ]
     },
     "execution_count": 10,
     "metadata": {},
     "output_type": "execute_result"
    }
   ],
   "source": [
    "test_data = pd.DataFrame(data = [X_test['text'].iloc[0]] , columns = ['text'])\n",
    "test_data"
   ]
  },
  {
   "cell_type": "code",
   "execution_count": 11,
   "id": "270b4c11",
   "metadata": {
    "execution": {
     "iopub.execute_input": "2023-10-12T08:06:48.738954Z",
     "iopub.status.busy": "2023-10-12T08:06:48.738657Z",
     "iopub.status.idle": "2023-10-12T08:06:48.768758Z",
     "shell.execute_reply": "2023-10-12T08:06:48.767924Z"
    },
    "papermill": {
     "duration": 0.035231,
     "end_time": "2023-10-12T08:06:48.770424",
     "exception": false,
     "start_time": "2023-10-12T08:06:48.735193",
     "status": "completed"
    },
    "tags": []
   },
   "outputs": [
    {
     "data": {
      "text/plain": [
       "array([0])"
      ]
     },
     "execution_count": 11,
     "metadata": {},
     "output_type": "execute_result"
    }
   ],
   "source": [
    "pipeline.predict(test_data)"
   ]
  }
 ],
 "metadata": {
  "kernelspec": {
   "display_name": "Python 3",
   "language": "python",
   "name": "python3"
  },
  "language_info": {
   "codemirror_mode": {
    "name": "ipython",
    "version": 3
   },
   "file_extension": ".py",
   "mimetype": "text/x-python",
   "name": "python",
   "nbconvert_exporter": "python",
   "pygments_lexer": "ipython3",
   "version": "3.10.12"
  },
  "papermill": {
   "default_parameters": {},
   "duration": 108.18875,
   "end_time": "2023-10-12T08:06:49.492287",
   "environment_variables": {},
   "exception": null,
   "input_path": "__notebook__.ipynb",
   "output_path": "__notebook__.ipynb",
   "parameters": {},
   "start_time": "2023-10-12T08:05:01.303537",
   "version": "2.4.0"
  }
 },
 "nbformat": 4,
 "nbformat_minor": 5
}
